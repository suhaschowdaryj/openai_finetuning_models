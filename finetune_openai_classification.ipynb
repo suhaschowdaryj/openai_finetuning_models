{
 "cells": [
  {
   "cell_type": "markdown",
   "id": "7bcdad0e-b67c-4927-b00e-3a4d950cd8ce",
   "metadata": {},
   "source": [
    "# Fine-tune OpenAI models - text classification\n",
    "\n",
    "This notebook provides a step-by-step guide for our new `gpt-3.5-turbo` fine-tuning. We'll perform text classification using the [AG news dataset](https://www.kaggle.com/datasets/amananandrai/ag-news-classification-dataset). This is a common dataset for text classification tasks.\n",
    "\n",
    "We will go through the following steps:\n",
    "\n",
    "1. **Setup:** Loading our dataset and filtering down to one domain to fine-tune on.\n",
    "2. **Data preparation:** Preparing your data for fine-tuning by creating training and validation examples, and uploading them to the `Files` endpoint.\n",
    "3. **Fine-tuning:** Creating your fine-tuned model.\n",
    "4. **Inference:** Using your fine-tuned model for inference on new inputs.\n",
    "\n",
    "By the end of this you should be able to train, evaluate and deploy a fine-tuned `gpt-3.5-turbo` model.\n",
    "\n",
    "For more information on fine-tuning, you can refer to our [documentation guide](https://platform.openai.com/docs/guides/fine-tuning), [API reference](https://platform.openai.com/docs/api-reference/fine-tuning) or [blog post](https://openai.com/blog/gpt-3-5-turbo-fine-tuning-and-api-updates)"
   ]
  },
  {
   "cell_type": "markdown",
   "id": "6f49cb10-f895-41f4-aa97-da606d0084d4",
   "metadata": {},
   "source": [
    "## Setup"
   ]
  },
  {
   "cell_type": "code",
   "execution_count": 1,
   "id": "32036e70",
   "metadata": {
    "collapsed": true,
    "jupyter": {
     "outputs_hidden": true
    },
    "tags": []
   },
   "outputs": [
    {
     "name": "stdout",
     "output_type": "stream",
     "text": [
      "Requirement already satisfied: openai in /Library/Frameworks/Python.framework/Versions/3.10/lib/python3.10/site-packages (0.27.10)\n",
      "Requirement already satisfied: aiohttp in /Library/Frameworks/Python.framework/Versions/3.10/lib/python3.10/site-packages (from openai) (3.8.4)\n",
      "Requirement already satisfied: requests>=2.20 in /Library/Frameworks/Python.framework/Versions/3.10/lib/python3.10/site-packages (from openai) (2.26.0)\n",
      "Requirement already satisfied: tqdm in /Library/Frameworks/Python.framework/Versions/3.10/lib/python3.10/site-packages (from openai) (4.62.3)\n",
      "Requirement already satisfied: urllib3<1.27,>=1.21.1 in /Library/Frameworks/Python.framework/Versions/3.10/lib/python3.10/site-packages (from requests>=2.20->openai) (1.26.7)\n",
      "Requirement already satisfied: idna<4,>=2.5 in /Library/Frameworks/Python.framework/Versions/3.10/lib/python3.10/site-packages (from requests>=2.20->openai) (3.3)\n",
      "Requirement already satisfied: certifi>=2017.4.17 in /Library/Frameworks/Python.framework/Versions/3.10/lib/python3.10/site-packages (from requests>=2.20->openai) (2021.10.8)\n",
      "Requirement already satisfied: charset-normalizer~=2.0.0 in /Library/Frameworks/Python.framework/Versions/3.10/lib/python3.10/site-packages (from requests>=2.20->openai) (2.0.7)\n",
      "Requirement already satisfied: aiosignal>=1.1.2 in /Library/Frameworks/Python.framework/Versions/3.10/lib/python3.10/site-packages (from aiohttp->openai) (1.3.1)\n",
      "Requirement already satisfied: frozenlist>=1.1.1 in /Library/Frameworks/Python.framework/Versions/3.10/lib/python3.10/site-packages (from aiohttp->openai) (1.3.3)\n",
      "Requirement already satisfied: async-timeout<5.0,>=4.0.0a3 in /Library/Frameworks/Python.framework/Versions/3.10/lib/python3.10/site-packages (from aiohttp->openai) (4.0.2)\n",
      "Requirement already satisfied: multidict<7.0,>=4.5 in /Library/Frameworks/Python.framework/Versions/3.10/lib/python3.10/site-packages (from aiohttp->openai) (6.0.4)\n",
      "Requirement already satisfied: attrs>=17.3.0 in /Library/Frameworks/Python.framework/Versions/3.10/lib/python3.10/site-packages (from aiohttp->openai) (21.4.0)\n",
      "Requirement already satisfied: yarl<2.0,>=1.0 in /Library/Frameworks/Python.framework/Versions/3.10/lib/python3.10/site-packages (from aiohttp->openai) (1.9.2)\n",
      "\u001b[33mWARNING: You are using pip version 22.0.4; however, version 23.2.1 is available.\n",
      "You should consider upgrading via the '/Library/Frameworks/Python.framework/Versions/3.10/bin/python3.10 -m pip install --upgrade pip' command.\u001b[0m\u001b[33m\n",
      "\u001b[0m"
     ]
    }
   ],
   "source": [
    "# make sure to use the latest version of the openai python package\n",
    "!pip install --upgrade openai "
   ]
  },
  {
   "cell_type": "code",
   "execution_count": 138,
   "id": "6e1f4403-37e1-4115-a215-12fd7daa1eb6",
   "metadata": {},
   "outputs": [],
   "source": [
    "import json\n",
    "import openai\n",
    "import os\n",
    "import pandas as pd\n",
    "from pprint import pprint\n",
    "\n",
    "OPENAI_API_KEY = os.getenv(\"OPENAI_API_KEY\", \"\")"
   ]
  },
  {
   "cell_type": "markdown",
   "id": "a468d660",
   "metadata": {},
   "source": [
    "\n",
    "Fine-tuning works best when focused on a particular domain. It's important to make sure your dataset is both focused enough for the model to learn, but general enough that unseen examples won't be missed. Having this in mind, we have extracted a subset from the AG news dataset."
   ]
  },
  {
   "cell_type": "code",
   "execution_count": 139,
   "id": "f57ebc23-14b7-47f9-90b8-1d791ccfc9bc",
   "metadata": {},
   "outputs": [
    {
     "data": {
      "text/html": [
       "<div>\n",
       "<style scoped>\n",
       "    .dataframe tbody tr th:only-of-type {\n",
       "        vertical-align: middle;\n",
       "    }\n",
       "\n",
       "    .dataframe tbody tr th {\n",
       "        vertical-align: top;\n",
       "    }\n",
       "\n",
       "    .dataframe thead th {\n",
       "        text-align: right;\n",
       "    }\n",
       "</style>\n",
       "<table border=\"1\" class=\"dataframe\">\n",
       "  <thead>\n",
       "    <tr style=\"text-align: right;\">\n",
       "      <th></th>\n",
       "      <th>Class Index</th>\n",
       "      <th>Title</th>\n",
       "      <th>Description</th>\n",
       "    </tr>\n",
       "  </thead>\n",
       "  <tbody>\n",
       "    <tr>\n",
       "      <th>0</th>\n",
       "      <td>3</td>\n",
       "      <td>Wall St. Bears Claw Back Into the Black (Reuters)</td>\n",
       "      <td>Reuters - Short-sellers, Wall Street's dwindli...</td>\n",
       "    </tr>\n",
       "    <tr>\n",
       "      <th>1</th>\n",
       "      <td>3</td>\n",
       "      <td>Carlyle Looks Toward Commercial Aerospace (Reu...</td>\n",
       "      <td>Reuters - Private investment firm Carlyle Grou...</td>\n",
       "    </tr>\n",
       "    <tr>\n",
       "      <th>2</th>\n",
       "      <td>3</td>\n",
       "      <td>Oil and Economy Cloud Stocks' Outlook (Reuters)</td>\n",
       "      <td>Reuters - Soaring crude prices plus worries\\ab...</td>\n",
       "    </tr>\n",
       "    <tr>\n",
       "      <th>3</th>\n",
       "      <td>3</td>\n",
       "      <td>Iraq Halts Oil Exports from Main Southern Pipe...</td>\n",
       "      <td>Reuters - Authorities have halted oil export\\f...</td>\n",
       "    </tr>\n",
       "    <tr>\n",
       "      <th>4</th>\n",
       "      <td>3</td>\n",
       "      <td>Oil prices soar to all-time record, posing new...</td>\n",
       "      <td>AFP - Tearaway world oil prices, toppling reco...</td>\n",
       "    </tr>\n",
       "  </tbody>\n",
       "</table>\n",
       "</div>"
      ],
      "text/plain": [
       "   Class Index                                              Title   \n",
       "0            3  Wall St. Bears Claw Back Into the Black (Reuters)  \\\n",
       "1            3  Carlyle Looks Toward Commercial Aerospace (Reu...   \n",
       "2            3    Oil and Economy Cloud Stocks' Outlook (Reuters)   \n",
       "3            3  Iraq Halts Oil Exports from Main Southern Pipe...   \n",
       "4            3  Oil prices soar to all-time record, posing new...   \n",
       "\n",
       "                                         Description  \n",
       "0  Reuters - Short-sellers, Wall Street's dwindli...  \n",
       "1  Reuters - Private investment firm Carlyle Grou...  \n",
       "2  Reuters - Soaring crude prices plus worries\\ab...  \n",
       "3  Reuters - Authorities have halted oil export\\f...  \n",
       "4  AFP - Tearaway world oil prices, toppling reco...  "
      ]
     },
     "execution_count": 139,
     "metadata": {},
     "output_type": "execute_result"
    }
   ],
   "source": [
    "# Read in the dataset we'll use for this task.\n",
    "# This will be the AG News dataset, which downloaded from https://www.kaggle.com/datasets/amananandrai/ag-news-classification-dataset\n",
    "AGnews_df = pd.read_csv(\"AGNews.csv\")\n",
    "\n",
    "AGnews_df.head()\n"
   ]
  },
  {
   "cell_type": "markdown",
   "id": "0b4db669-13c0-4f5c-a742-dc85afd6e66e",
   "metadata": {},
   "source": [
    "In the above dataset, the index to class mappings are as follows: 1-World, 2-Sports, 3-Business, 4-Sci/Tech"
   ]
  },
  {
   "cell_type": "code",
   "execution_count": 140,
   "id": "84c1a55a-2e34-47b0-a0b3-05380424de01",
   "metadata": {},
   "outputs": [],
   "source": [
    "# Create index to class mapping dictionary\n",
    "index_class_mapping_dict =  {1:'World', 2:'Sports', 3:'Business', 4:'Sci_Tech'}"
   ]
  },
  {
   "cell_type": "code",
   "execution_count": 141,
   "id": "2d4139ce-f34e-4992-8d1e-b026f562ec2d",
   "metadata": {},
   "outputs": [],
   "source": [
    "# Convert indexes to news categories\n",
    "AGnews_df['News category'] =  AGnews_df['Class Index'].apply(lambda x: index_class_mapping_dict[x])\n",
    "del AGnews_df['Class Index']"
   ]
  },
  {
   "cell_type": "code",
   "execution_count": 142,
   "id": "2d17665b-b78e-4ff0-aa97-833eb440713d",
   "metadata": {},
   "outputs": [
    {
     "data": {
      "text/html": [
       "<div>\n",
       "<style scoped>\n",
       "    .dataframe tbody tr th:only-of-type {\n",
       "        vertical-align: middle;\n",
       "    }\n",
       "\n",
       "    .dataframe tbody tr th {\n",
       "        vertical-align: top;\n",
       "    }\n",
       "\n",
       "    .dataframe thead th {\n",
       "        text-align: right;\n",
       "    }\n",
       "</style>\n",
       "<table border=\"1\" class=\"dataframe\">\n",
       "  <thead>\n",
       "    <tr style=\"text-align: right;\">\n",
       "      <th></th>\n",
       "      <th>Title</th>\n",
       "      <th>Description</th>\n",
       "      <th>News category</th>\n",
       "    </tr>\n",
       "  </thead>\n",
       "  <tbody>\n",
       "    <tr>\n",
       "      <th>0</th>\n",
       "      <td>Wall St. Bears Claw Back Into the Black (Reuters)</td>\n",
       "      <td>Reuters - Short-sellers, Wall Street's dwindli...</td>\n",
       "      <td>Business</td>\n",
       "    </tr>\n",
       "    <tr>\n",
       "      <th>1</th>\n",
       "      <td>Carlyle Looks Toward Commercial Aerospace (Reu...</td>\n",
       "      <td>Reuters - Private investment firm Carlyle Grou...</td>\n",
       "      <td>Business</td>\n",
       "    </tr>\n",
       "    <tr>\n",
       "      <th>2</th>\n",
       "      <td>Oil and Economy Cloud Stocks' Outlook (Reuters)</td>\n",
       "      <td>Reuters - Soaring crude prices plus worries\\ab...</td>\n",
       "      <td>Business</td>\n",
       "    </tr>\n",
       "    <tr>\n",
       "      <th>3</th>\n",
       "      <td>Iraq Halts Oil Exports from Main Southern Pipe...</td>\n",
       "      <td>Reuters - Authorities have halted oil export\\f...</td>\n",
       "      <td>Business</td>\n",
       "    </tr>\n",
       "    <tr>\n",
       "      <th>4</th>\n",
       "      <td>Oil prices soar to all-time record, posing new...</td>\n",
       "      <td>AFP - Tearaway world oil prices, toppling reco...</td>\n",
       "      <td>Business</td>\n",
       "    </tr>\n",
       "  </tbody>\n",
       "</table>\n",
       "</div>"
      ],
      "text/plain": [
       "                                               Title   \n",
       "0  Wall St. Bears Claw Back Into the Black (Reuters)  \\\n",
       "1  Carlyle Looks Toward Commercial Aerospace (Reu...   \n",
       "2    Oil and Economy Cloud Stocks' Outlook (Reuters)   \n",
       "3  Iraq Halts Oil Exports from Main Southern Pipe...   \n",
       "4  Oil prices soar to all-time record, posing new...   \n",
       "\n",
       "                                         Description News category  \n",
       "0  Reuters - Short-sellers, Wall Street's dwindli...      Business  \n",
       "1  Reuters - Private investment firm Carlyle Grou...      Business  \n",
       "2  Reuters - Soaring crude prices plus worries\\ab...      Business  \n",
       "3  Reuters - Authorities have halted oil export\\f...      Business  \n",
       "4  AFP - Tearaway world oil prices, toppling reco...      Business  "
      ]
     },
     "execution_count": 142,
     "metadata": {},
     "output_type": "execute_result"
    }
   ],
   "source": [
    "AGnews_df.head()\n"
   ]
  },
  {
   "cell_type": "code",
   "execution_count": 143,
   "id": "aba43661-cc35-47bf-8e25-405a5c89fa71",
   "metadata": {},
   "outputs": [
    {
     "data": {
      "text/plain": [
       "News category\n",
       "World       30\n",
       "Business    26\n",
       "Sports      25\n",
       "Sci_Tech    20\n",
       "Name: count, dtype: int64"
      ]
     },
     "execution_count": 143,
     "metadata": {},
     "output_type": "execute_result"
    }
   ],
   "source": [
    "# Sampling to ensure all the news categories are there in the training and test data\n",
    "AGnews_df = AGnews_df.sample(frac=1)\n",
    "AGnews_df = AGnews_df.reset_index(drop=True)\n",
    "AGnews_df.loc[:100]['News category'].value_counts()\n"
   ]
  },
  {
   "cell_type": "markdown",
   "id": "2b3151e9-8715-47bd-a153-195d6a0d0a70",
   "metadata": {},
   "source": [
    "## Data preparation\n",
    "\n",
    "We'll begin by preparing our data. When fine-tuning with the `ChatCompletion` format, each training example is a simple list of `messages`. For example, an entry could look like:\n",
    "\n",
    "```\n",
    "[{'role': 'system',\n",
    "  'content': 'You are a helpful news classification assistant. You are to extract the text category from each of the news texts provided.'},\n",
    "\n",
    " {'role': 'user',\n",
    "  'content': 'Title: Wall St. Bears Claw Back Into the Black (Reuters)\\n\\nDescription: Reuters - Short-sellers, Wall Street's dwindling\\band of ultra-cynics, are seeing green again.\\n\\nNews category: '},\n",
    "\n",
    " {'role': 'assistant',\n",
    "  'content': 'Business'}]\n",
    "```\n",
    "\n",
    "During the training process this conversation will be split, with the final entry being the `completion` that the model will produce, and the remainder of the `messages` acting as the prompt. Consider this when building your training examples - if your model will act on multi-turn conversations, then please provide representative examples so it doesn't perform poorly when the conversation starts to expand.\n",
    "\n",
    "Please note that currently there is a 4096 token limit for each training example. Anything longer than this will be truncated at 4096 tokens.\n"
   ]
  },
  {
   "cell_type": "code",
   "execution_count": 144,
   "id": "9a8216b0-d1dc-472d-b07d-1be03acd70a5",
   "metadata": {},
   "outputs": [
    {
     "name": "stdout",
     "output_type": "stream",
     "text": [
      "{'messages': [{'content': 'You are a helpful news classification assistant. '\n",
      "                          'You are to extract the text category from each of '\n",
      "                          'the news texts provided.',\n",
      "               'role': 'system'},\n",
      "              {'content': 'Title: St. Louis gets back to NLCS\\n'\n",
      "                          '\\n'\n",
      "                          'Description: Albert Pujols hit a tiebreaking '\n",
      "                          'three-run home run Sunday night as the St. Louis '\n",
      "                          'Cardinals beat the Los Angeles Dodgers 6-2 to reach '\n",
      "                          'the National League Championship Series for the '\n",
      "                          'second time in three years.\\n'\n",
      "                          '\\n'\n",
      "                          'News category: ',\n",
      "               'role': 'user'},\n",
      "              {'content': 'Sports', 'role': 'assistant'}]}\n"
     ]
    }
   ],
   "source": [
    "training_data = []\n",
    "\n",
    "system_message = \"You are a helpful news classification assistant. You are to extract the text category from each of the news texts provided.\"\n",
    "\n",
    "def create_user_message(row):\n",
    "    return f\"\"\"Title: {row['Title']}\\n\\nDescription: {row['Description']}\\n\\nNews category: \"\"\"\n",
    "\n",
    "def prepare_example_conversation(row):\n",
    "    messages = []\n",
    "    messages.append({\"role\": \"system\", \"content\": system_message})\n",
    "\n",
    "    user_message = create_user_message(row)\n",
    "    messages.append({\"role\": \"user\", \"content\": user_message})\n",
    "\n",
    "    messages.append({\"role\": \"assistant\", \"content\": row[\"News category\"]})\n",
    "\n",
    "    return {\"messages\": messages}\n",
    "\n",
    "pprint(prepare_example_conversation(AGnews_df.iloc[0]))"
   ]
  },
  {
   "cell_type": "markdown",
   "id": "82fa4fae",
   "metadata": {},
   "source": [
    "Let's now do this for a subset of the dataset to use as our training data. You can begin with even 30-50 well-pruned examples. You should see performance continue to scale linearly as you increase the size of the training set, but your jobs will also take longer."
   ]
  },
  {
   "cell_type": "code",
   "execution_count": 145,
   "id": "8f37aff9",
   "metadata": {
    "tags": []
   },
   "outputs": [
    {
     "name": "stdout",
     "output_type": "stream",
     "text": [
      "{'messages': [{'role': 'system', 'content': 'You are a helpful news classification assistant. You are to extract the text category from each of the news texts provided.'}, {'role': 'user', 'content': 'Title: St. Louis gets back to NLCS\\n\\nDescription: Albert Pujols hit a tiebreaking three-run home run Sunday night as the St. Louis Cardinals beat the Los Angeles Dodgers 6-2 to reach the National League Championship Series for the second time in three years.\\n\\nNews category: '}, {'role': 'assistant', 'content': 'Sports'}]}\n",
      "{'messages': [{'role': 'system', 'content': 'You are a helpful news classification assistant. You are to extract the text category from each of the news texts provided.'}, {'role': 'user', 'content': 'Title: New England scores when it counts\\n\\nDescription: FOXBORO -- The New England Patriots usually count on veterans to make plays down the stretch in games like this. On Sunday, they turned to an enigmatic -- but incredibly fast -- wide receiver instead.\\n\\nNews category: '}, {'role': 'assistant', 'content': 'Sports'}]}\n",
      "{'messages': [{'role': 'system', 'content': 'You are a helpful news classification assistant. You are to extract the text category from each of the news texts provided.'}, {'role': 'user', 'content': 'Title: Strange Bedfellows  Handango Selected As Preminet Key Content &lt;b&gt;...&lt;/b&gt;\\n\\nDescription: Given that Handango have a catalog of applications that they sell through a range of store fronts hosted for operators and Nokias Preminet does pretty much the same thing todays announcement seems just a little odd.\\n\\nNews category: '}, {'role': 'assistant', 'content': 'Sci_Tech'}]}\n",
      "{'messages': [{'role': 'system', 'content': 'You are a helpful news classification assistant. You are to extract the text category from each of the news texts provided.'}, {'role': 'user', 'content': 'Title: IBM Transitions to Power5\\n\\nDescription: IBM next month will finish transitioning its core pSeries and iSeries server lines to the Power5 chip when it starts shipping three new high-end systems, two of which support as many as 64 processors.\\n\\nNews category: '}, {'role': 'assistant', 'content': 'Sci_Tech'}]}\n",
      "{'messages': [{'role': 'system', 'content': 'You are a helpful news classification assistant. You are to extract the text category from each of the news texts provided.'}, {'role': 'user', 'content': 'Title: PM inaugurates Guru Granth Sahib research center in Capital\\n\\nDescription: Prime Minister Dr Manmohan Singh inaugurated a research centre in the Capital on Thursday to mark 400 years of compilation of Sikh holy book the Guru Granth Sahib.\\n\\nNews category: '}, {'role': 'assistant', 'content': 'World'}]}\n"
     ]
    }
   ],
   "source": [
    "# use the first 100 rows of the dataset for training\n",
    "training_df = AGnews_df.loc[0:100]\n",
    "\n",
    "# apply the prepare_example_conversation function to each row of the training_df\n",
    "training_data = training_df.apply(prepare_example_conversation, axis=1).tolist()\n",
    "\n",
    "for example in training_data[:5]:\n",
    "    print(example)"
   ]
  },
  {
   "cell_type": "code",
   "execution_count": 146,
   "id": "0d2cbb4d-eb9c-499e-8379-998d0f4b3788",
   "metadata": {},
   "outputs": [
    {
     "data": {
      "text/plain": [
       "[{'messages': [{'role': 'system',\n",
       "    'content': 'You are a helpful news classification assistant. You are to extract the text category from each of the news texts provided.'},\n",
       "   {'role': 'user',\n",
       "    'content': 'Title: St. Louis gets back to NLCS\\n\\nDescription: Albert Pujols hit a tiebreaking three-run home run Sunday night as the St. Louis Cardinals beat the Los Angeles Dodgers 6-2 to reach the National League Championship Series for the second time in three years.\\n\\nNews category: '},\n",
       "   {'role': 'assistant', 'content': 'Sports'}]},\n",
       " {'messages': [{'role': 'system',\n",
       "    'content': 'You are a helpful news classification assistant. You are to extract the text category from each of the news texts provided.'},\n",
       "   {'role': 'user',\n",
       "    'content': 'Title: New England scores when it counts\\n\\nDescription: FOXBORO -- The New England Patriots usually count on veterans to make plays down the stretch in games like this. On Sunday, they turned to an enigmatic -- but incredibly fast -- wide receiver instead.\\n\\nNews category: '},\n",
       "   {'role': 'assistant', 'content': 'Sports'}]}]"
      ]
     },
     "execution_count": 146,
     "metadata": {},
     "output_type": "execute_result"
    }
   ],
   "source": [
    "training_data[0:2]"
   ]
  },
  {
   "cell_type": "markdown",
   "id": "6fb0f6a7",
   "metadata": {},
   "source": [
    "In addition to training data, we can also **optionally** provide validation data, which will be used to make sure that the model does not overfit your training set."
   ]
  },
  {
   "cell_type": "code",
   "execution_count": 147,
   "id": "5b853efa-dfea-4770-ab88-9b7e17794421",
   "metadata": {},
   "outputs": [],
   "source": [
    "validation_df = AGnews_df.loc[101:200]\n",
    "validation_data = validation_df.apply(prepare_example_conversation, axis=1).tolist()"
   ]
  },
  {
   "cell_type": "markdown",
   "id": "1d5e7bfe-f6c8-4a23-a951-3df3f3791d7f",
   "metadata": {},
   "source": [
    "We then need to save our data as `.jsonl` files, with each line being one training example conversation.\n"
   ]
  },
  {
   "cell_type": "code",
   "execution_count": 148,
   "id": "8d2eb207-2c2b-43f6-a613-64a7e92d494d",
   "metadata": {},
   "outputs": [],
   "source": [
    "def write_jsonl(data_list: list, filename: str) -> None:\n",
    "    with open(filename, \"w\") as out:\n",
    "        for ddict in data_list:\n",
    "            jout = json.dumps(ddict) + \"\\n\"\n",
    "            out.write(jout)"
   ]
  },
  {
   "cell_type": "code",
   "execution_count": 149,
   "id": "8b53e7a2-1cac-4c5f-8ba4-3292ba2a0770",
   "metadata": {},
   "outputs": [],
   "source": [
    "training_file_name = \"AGnews_training.jsonl\"\n",
    "write_jsonl(training_data, training_file_name)\n",
    "\n",
    "validation_file_name = \"AGnews_validation.jsonl\"\n",
    "write_jsonl(validation_data, validation_file_name)"
   ]
  },
  {
   "cell_type": "markdown",
   "id": "80b274a3",
   "metadata": {},
   "source": [
    "This is what the first 5 lines of our training `.jsonl` file look like:"
   ]
  },
  {
   "cell_type": "code",
   "execution_count": 150,
   "id": "283c4ec2",
   "metadata": {},
   "outputs": [
    {
     "name": "stdout",
     "output_type": "stream",
     "text": [
      "{\"messages\": [{\"role\": \"system\", \"content\": \"You are a helpful news classification assistant. You are to extract the text category from each of the news texts provided.\"}, {\"role\": \"user\", \"content\": \"Title: St. Louis gets back to NLCS\\n\\nDescription: Albert Pujols hit a tiebreaking three-run home run Sunday night as the St. Louis Cardinals beat the Los Angeles Dodgers 6-2 to reach the National League Championship Series for the second time in three years.\\n\\nNews category: \"}, {\"role\": \"assistant\", \"content\": \"Sports\"}]}\n",
      "{\"messages\": [{\"role\": \"system\", \"content\": \"You are a helpful news classification assistant. You are to extract the text category from each of the news texts provided.\"}, {\"role\": \"user\", \"content\": \"Title: New England scores when it counts\\n\\nDescription: FOXBORO -- The New England Patriots usually count on veterans to make plays down the stretch in games like this. On Sunday, they turned to an enigmatic -- but incredibly fast -- wide receiver instead.\\n\\nNews category: \"}, {\"role\": \"assistant\", \"content\": \"Sports\"}]}\n",
      "{\"messages\": [{\"role\": \"system\", \"content\": \"You are a helpful news classification assistant. You are to extract the text category from each of the news texts provided.\"}, {\"role\": \"user\", \"content\": \"Title: Strange Bedfellows  Handango Selected As Preminet Key Content &lt;b&gt;...&lt;/b&gt;\\n\\nDescription: Given that Handango have a catalog of applications that they sell through a range of store fronts hosted for operators and Nokias Preminet does pretty much the same thing todays announcement seems just a little odd.\\n\\nNews category: \"}, {\"role\": \"assistant\", \"content\": \"Sci_Tech\"}]}\n",
      "{\"messages\": [{\"role\": \"system\", \"content\": \"You are a helpful news classification assistant. You are to extract the text category from each of the news texts provided.\"}, {\"role\": \"user\", \"content\": \"Title: IBM Transitions to Power5\\n\\nDescription: IBM next month will finish transitioning its core pSeries and iSeries server lines to the Power5 chip when it starts shipping three new high-end systems, two of which support as many as 64 processors.\\n\\nNews category: \"}, {\"role\": \"assistant\", \"content\": \"Sci_Tech\"}]}\n",
      "{\"messages\": [{\"role\": \"system\", \"content\": \"You are a helpful news classification assistant. You are to extract the text category from each of the news texts provided.\"}, {\"role\": \"user\", \"content\": \"Title: PM inaugurates Guru Granth Sahib research center in Capital\\n\\nDescription: Prime Minister Dr Manmohan Singh inaugurated a research centre in the Capital on Thursday to mark 400 years of compilation of Sikh holy book the Guru Granth Sahib.\\n\\nNews category: \"}, {\"role\": \"assistant\", \"content\": \"World\"}]}\n"
     ]
    }
   ],
   "source": [
    "# print the first 5 lines of the training file\n",
    "!head -n 5 AGnews_training.jsonl"
   ]
  },
  {
   "cell_type": "markdown",
   "id": "0d149e2e-50dd-45c1-bd8d-1291975670b4",
   "metadata": {},
   "source": [
    "### Upload files\n",
    "\n",
    "You can now upload the files to our `Files` endpoint to be used by the fine-tuned model.\n"
   ]
  },
  {
   "cell_type": "code",
   "execution_count": 151,
   "id": "69462d9e-e6bd-49b9-a064-9eae4ea5b7a8",
   "metadata": {},
   "outputs": [
    {
     "name": "stdout",
     "output_type": "stream",
     "text": [
      "Training file ID: file-eMglOzQXHsaybS4DDmhNDPQL\n",
      "Validation file ID: file-zBJU0ympe2wj7iubHiKWcbhs\n"
     ]
    }
   ],
   "source": [
    "openai.api_key = OPENAI_API_KEY\n",
    "\n",
    "training_response = openai.File.create(\n",
    "    file=open(training_file_name, \"rb\"), purpose=\"fine-tune\"\n",
    ")\n",
    "training_file_id = training_response[\"id\"]\n",
    "\n",
    "validation_response = openai.File.create(\n",
    "    file=open(validation_file_name, \"rb\"), purpose=\"fine-tune\"\n",
    ")\n",
    "validation_file_id = validation_response[\"id\"]\n",
    "\n",
    "print(\"Training file ID:\", training_file_id)\n",
    "print(\"Validation file ID:\", validation_file_id)"
   ]
  },
  {
   "cell_type": "markdown",
   "id": "d61cd381-63ad-4ed9-b0be-47a438891028",
   "metadata": {},
   "source": [
    "## Fine-tuning\n",
    "\n",
    "Now we can create our fine-tuning job with the generated files and an optional suffix to identify the model. The response will contain an `id` which you can use to retrieve updates on the job.\n",
    "\n",
    "Note: The files have to first be processed by our system, so you might get a `File not ready` error. In that case, simply retry a few minutes later.\n"
   ]
  },
  {
   "cell_type": "code",
   "execution_count": 152,
   "id": "2b688e96-654a-41ec-ac94-5bdfdcf2048b",
   "metadata": {
    "tags": []
   },
   "outputs": [
    {
     "name": "stdout",
     "output_type": "stream",
     "text": [
      "Job ID: ftjob-i8PqP3nuQFxuXzL3n18QhG1P\n",
      "Status: created\n"
     ]
    }
   ],
   "source": [
    "response = openai.FineTuningJob.create(\n",
    "    training_file=training_file_id,\n",
    "    validation_file=validation_file_id,\n",
    "    model=\"gpt-3.5-turbo\",\n",
    "    suffix=\"recipe-text-class\",\n",
    ")\n",
    "\n",
    "\n",
    "job_id = response[\"id\"]\n",
    "\n",
    "print(\"Job ID:\", response[\"id\"])\n",
    "print(\"Status:\", response[\"status\"])"
   ]
  },
  {
   "cell_type": "markdown",
   "id": "1de3ed71-f2d4-4138-95a3-70da187a007e",
   "metadata": {},
   "source": [
    "#### Check job status\n",
    "\n",
    "You can make a `GET` request to the `https://api.openai.com/v1/alpha/fine-tunes` endpoint to list your alpha fine-tune jobs. In this instance you'll want to check that the ID you got from the previous step ends up as `status: succeeded`.\n",
    "\n",
    "Once it is completed, you can use the `result_files` to sample the results from the validation set (if you uploaded one), and use the ID from the `fine_tuned_model` parameter to invoke your trained model.\n"
   ]
  },
  {
   "cell_type": "code",
   "execution_count": 162,
   "id": "d7392f48",
   "metadata": {},
   "outputs": [
    {
     "name": "stdout",
     "output_type": "stream",
     "text": [
      "Job ID: ftjob-i8PqP3nuQFxuXzL3n18QhG1P\n",
      "Status: succeeded\n",
      "Trained Tokens: 29793\n"
     ]
    }
   ],
   "source": [
    "response = openai.FineTuningJob.retrieve(job_id)\n",
    "\n",
    "print(\"Job ID:\", response[\"id\"])\n",
    "print(\"Status:\", response[\"status\"])\n",
    "print(\"Trained Tokens:\", response[\"trained_tokens\"])\n"
   ]
  },
  {
   "cell_type": "markdown",
   "id": "30a57fbb",
   "metadata": {},
   "source": [
    "We can track the progress of the fine-tune with the events endpoint. You can rerun the cell below a few times until the fine-tune is ready.\n"
   ]
  },
  {
   "cell_type": "code",
   "execution_count": 163,
   "id": "08cace28",
   "metadata": {},
   "outputs": [
    {
     "name": "stdout",
     "output_type": "stream",
     "text": [
      "Created fine-tune: ftjob-i8PqP3nuQFxuXzL3n18QhG1P\n",
      "Fine tuning job started\n",
      "Step 10/303: training loss=1.50\n",
      "Step 20/303: training loss=0.02\n",
      "Step 30/303: training loss=0.00\n",
      "Step 40/303: training loss=0.00\n",
      "Step 50/303: training loss=0.00\n",
      "Step 60/303: training loss=4.28\n",
      "Step 70/303: training loss=0.00\n",
      "Step 80/303: training loss=0.00\n",
      "Step 90/303: training loss=0.00\n",
      "Step 100/303: training loss=0.00\n",
      "Step 110/303: training loss=0.00\n",
      "Step 120/303: training loss=0.42\n",
      "Step 130/303: training loss=0.00\n",
      "Step 140/303: training loss=0.00\n",
      "Step 150/303: training loss=0.00\n",
      "Step 160/303: training loss=2.64\n",
      "Step 170/303: training loss=0.00\n",
      "Step 180/303: training loss=0.00\n",
      "Step 190/303: training loss=2.23\n",
      "Step 200/303: training loss=0.00\n",
      "Step 210/303: training loss=0.00\n",
      "Step 220/303: training loss=5.20\n",
      "Step 230/303: training loss=0.00\n",
      "Step 240/303: training loss=0.00\n",
      "Step 250/303: training loss=0.00\n",
      "Step 260/303: training loss=0.23\n",
      "Step 270/303: training loss=6.65\n",
      "Step 280/303: training loss=0.00\n",
      "Step 290/303: training loss=0.00\n",
      "Step 300/303: training loss=0.00\n",
      "New fine-tuned model created: ft:gpt-3.5-turbo-0613:personal:recipe-text-class:7uoypYHx\n",
      "Fine-tuning job successfully completed\n"
     ]
    }
   ],
   "source": [
    "response = openai.FineTuningJob.list_events(id=job_id, limit=50)\n",
    "\n",
    "events = response[\"data\"]\n",
    "events.reverse()\n",
    "\n",
    "for event in events:\n",
    "    print(event[\"message\"])"
   ]
  },
  {
   "cell_type": "markdown",
   "id": "d0da4e32",
   "metadata": {},
   "source": [
    "Now that it's done, we can get a fine-tuned model ID from the job:\n"
   ]
  },
  {
   "cell_type": "code",
   "execution_count": 164,
   "id": "40b28c26",
   "metadata": {},
   "outputs": [
    {
     "name": "stdout",
     "output_type": "stream",
     "text": [
      "Fine-tuned model ID: ft:gpt-3.5-turbo-0613:personal:recipe-text-class:7uoypYHx\n"
     ]
    }
   ],
   "source": [
    "response = openai.FineTuningJob.retrieve(job_id)\n",
    "fine_tuned_model_id = response[\"fine_tuned_model\"]\n",
    "\n",
    "print(\"Fine-tuned model ID:\", fine_tuned_model_id)"
   ]
  },
  {
   "cell_type": "markdown",
   "id": "0025e392-84cd-4566-a384-ea31ca43e567",
   "metadata": {},
   "source": [
    "## Inference"
   ]
  },
  {
   "cell_type": "markdown",
   "id": "0ab9ac11",
   "metadata": {},
   "source": [
    "The last step is to use your fine-tuned model for inference. Similar to the classic `FineTuning`, you simply call `ChatCompletions` with your new fine-tuned model name filling the `model` parameter.\n"
   ]
  },
  {
   "cell_type": "code",
   "execution_count": 165,
   "id": "1c7de631-b68f-4eff-9ae7-051641579c2b",
   "metadata": {
    "tags": []
   },
   "outputs": [
    {
     "name": "stdout",
     "output_type": "stream",
     "text": [
      "[{'content': 'You are a helpful news classification assistant. You are to '\n",
      "             'extract the text category from each of the news texts provided.',\n",
      "  'role': 'system'},\n",
      " {'content': 'Title: New pathogens, mercury threaten Great Lakes, health of '\n",
      "             'millions of residents (Canadian Press)\\n'\n",
      "             '\\n'\n",
      "             'Description: Canadian Press - (CP) - New antibiotic-resistant '\n",
      "             'pathogens, airborne mercury and urban sprawl are threatening the '\n",
      "             'health of the Great Lakes and millions of people who live around '\n",
      "             'the bodies of fresh water, a report to the Canadian and U.S. '\n",
      "             'governments concludes.\\n'\n",
      "             '\\n'\n",
      "             'News category: ',\n",
      "  'role': 'user'}]\n"
     ]
    }
   ],
   "source": [
    "test_df = AGnews_df.loc[201:300]\n",
    "test_row = test_df.iloc[0]\n",
    "test_messages = []\n",
    "test_messages.append({\"role\": \"system\", \"content\": system_message})\n",
    "user_message = create_user_message(test_row)\n",
    "test_messages.append({\"role\": \"user\", \"content\": create_user_message(test_row)})\n",
    "\n",
    "pprint(test_messages)"
   ]
  },
  {
   "cell_type": "code",
   "execution_count": 166,
   "id": "1a1d2589",
   "metadata": {
    "tags": []
   },
   "outputs": [
    {
     "name": "stdout",
     "output_type": "stream",
     "text": [
      "Sci_Tech\n"
     ]
    }
   ],
   "source": [
    "response = openai.ChatCompletion.create(\n",
    "    model=fine_tuned_model_id, messages=test_messages, temperature=0, max_tokens=500\n",
    ")\n",
    "print(response[\"choices\"][0][\"message\"][\"content\"])"
   ]
  },
  {
   "cell_type": "code",
   "execution_count": 167,
   "id": "980523d5-ab9c-40ed-9dff-fb081782e218",
   "metadata": {},
   "outputs": [
    {
     "name": "stdout",
     "output_type": "stream",
     "text": [
      "[{'content': 'You are a helpful news classification assistant. You are to '\n",
      "             'extract the text category from each of the news texts provided.',\n",
      "  'role': 'system'},\n",
      " {'content': 'Title: Time for Celtic #39;s money men to fund O #39;Neill #39;s '\n",
      "             'ambition\\n'\n",
      "             '\\n'\n",
      "             'Description: ITS TIME to take stock. Those were Martin ONeills '\n",
      "             'words late on Tuesday night as he tried to quantify the effect '\n",
      "             'upon Celtic of watching their European season plunge into '\n",
      "             'darkness.\\n'\n",
      "             '\\n'\n",
      "             'News category: ',\n",
      "  'role': 'user'}]\n",
      "Sports\n"
     ]
    }
   ],
   "source": [
    "test_row = test_df.iloc[3]\n",
    "test_messages = []\n",
    "test_messages.append({\"role\": \"system\", \"content\": system_message})\n",
    "user_message = create_user_message(test_row)\n",
    "test_messages.append({\"role\": \"user\", \"content\": create_user_message(test_row)})\n",
    "\n",
    "pprint(test_messages)\n",
    "\n",
    "response = openai.ChatCompletion.create(\n",
    "    model=fine_tuned_model_id, messages=test_messages, temperature=0, max_tokens=500\n",
    ")\n",
    "print(response[\"choices\"][0][\"message\"][\"content\"])"
   ]
  },
  {
   "cell_type": "code",
   "execution_count": null,
   "id": "b3937276-566b-4956-8bd4-ba90e203a89a",
   "metadata": {},
   "outputs": [],
   "source": []
  },
  {
   "cell_type": "markdown",
   "id": "07799909-3f2a-4274-b81e-dabc048be28f",
   "metadata": {},
   "source": [
    "## Conclusion\n",
    "\n",
    "Congratulations, you are now ready to fine-tune your own models using the `ChatCompletion` format! We look forward to seeing what you build\n"
   ]
  },
  {
   "cell_type": "code",
   "execution_count": null,
   "id": "0ee1da23-0d04-43c4-a12f-c812d35ff0bc",
   "metadata": {},
   "outputs": [],
   "source": []
  },
  {
   "cell_type": "code",
   "execution_count": null,
   "id": "406141a6-837e-46ff-b5b5-76e1817e235c",
   "metadata": {},
   "outputs": [],
   "source": []
  }
 ],
 "metadata": {
  "kernelspec": {
   "display_name": "Python 3 (ipykernel)",
   "language": "python",
   "name": "python3"
  },
  "language_info": {
   "codemirror_mode": {
    "name": "ipython",
    "version": 3
   },
   "file_extension": ".py",
   "mimetype": "text/x-python",
   "name": "python",
   "nbconvert_exporter": "python",
   "pygments_lexer": "ipython3",
   "version": "3.10.2"
  }
 },
 "nbformat": 4,
 "nbformat_minor": 5
}
